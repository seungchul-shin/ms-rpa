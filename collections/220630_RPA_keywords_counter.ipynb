{
  "nbformat": 4,
  "nbformat_minor": 0,
  "metadata": {
    "colab": {
      "name": "220630_RPA_keywords_counter",
      "provenance": [],
      "collapsed_sections": []
    },
    "kernelspec": {
      "name": "python3",
      "display_name": "Python 3"
    },
    "language_info": {
      "name": "python"
    }
  },
  "cells": [
    {
      "cell_type": "code",
      "execution_count": 1,
      "metadata": {
        "id": "PJHRxrDucGnO"
      },
      "outputs": [],
      "source": [
        "import pandas as pd\n",
        "from collections import Counter\n",
        "import numpy as np"
      ]
    },
    {
      "cell_type": "code",
      "source": [
        "df = pd.read_excel(\"pps.xlsx\", usecols='C,R:X')\n",
        "df"
      ],
      "metadata": {
        "colab": {
          "base_uri": "https://localhost:8080/",
          "height": 424
        },
        "id": "kdZ--5i7dNSs",
        "outputId": "88aaca7c-34d4-4539-b049-547a2486f4fd"
      },
      "execution_count": 2,
      "outputs": [
        {
          "output_type": "execute_result",
          "data": {
            "text/plain": [
              "          연도   연구 키워드 Unnamed: 18 Unnamed: 19 Unnamed: 20 Unnamed: 21  \\\n",
              "0        NaN      NaN         NaN         NaN         NaN         NaN   \n",
              "1     2000.0      NaN         NaN         NaN         NaN         NaN   \n",
              "2     2000.0      NaN         NaN         NaN         NaN         NaN   \n",
              "3     2000.0      NaN         NaN         NaN         NaN         NaN   \n",
              "4     2000.0      NaN         NaN         NaN         NaN         NaN   \n",
              "...      ...      ...         ...         ...         ...         ...   \n",
              "1525  2021.0   위험도 지표        노출변수        상관분석     인구자동차계수     자동차도로계수   \n",
              "1526  2021.0     수요분석        게임이론      지역간 철도    대중교통 만족도        대기시간   \n",
              "1527  2021.0  사업용 자동차      위계적 모형    내재적 사고요인   로지스틱 회귀분석       운수종사자   \n",
              "1528  2021.0     jerk         분류기         SDI     서포트벡터머신    교통안전대체지표   \n",
              "1529  2021.0    자율주행차      자율협력주행   자율주행 전용차로       혼합교통류         연속류   \n",
              "\n",
              "     Unnamed: 22 Unnamed: 23  \n",
              "0            NaN         NaN  \n",
              "1            NaN         NaN  \n",
              "2            NaN         NaN  \n",
              "3            NaN         NaN  \n",
              "4            NaN         NaN  \n",
              "...          ...         ...  \n",
              "1525         NaN         NaN  \n",
              "1526         NaN         NaN  \n",
              "1527         NaN         NaN  \n",
              "1528         NaN         NaN  \n",
              "1529         NaN         NaN  \n",
              "\n",
              "[1530 rows x 8 columns]"
            ],
            "text/html": [
              "\n",
              "  <div id=\"df-c0b995e2-d064-4f0f-8b57-c1212dfce78f\">\n",
              "    <div class=\"colab-df-container\">\n",
              "      <div>\n",
              "<style scoped>\n",
              "    .dataframe tbody tr th:only-of-type {\n",
              "        vertical-align: middle;\n",
              "    }\n",
              "\n",
              "    .dataframe tbody tr th {\n",
              "        vertical-align: top;\n",
              "    }\n",
              "\n",
              "    .dataframe thead th {\n",
              "        text-align: right;\n",
              "    }\n",
              "</style>\n",
              "<table border=\"1\" class=\"dataframe\">\n",
              "  <thead>\n",
              "    <tr style=\"text-align: right;\">\n",
              "      <th></th>\n",
              "      <th>연도</th>\n",
              "      <th>연구 키워드</th>\n",
              "      <th>Unnamed: 18</th>\n",
              "      <th>Unnamed: 19</th>\n",
              "      <th>Unnamed: 20</th>\n",
              "      <th>Unnamed: 21</th>\n",
              "      <th>Unnamed: 22</th>\n",
              "      <th>Unnamed: 23</th>\n",
              "    </tr>\n",
              "  </thead>\n",
              "  <tbody>\n",
              "    <tr>\n",
              "      <th>0</th>\n",
              "      <td>NaN</td>\n",
              "      <td>NaN</td>\n",
              "      <td>NaN</td>\n",
              "      <td>NaN</td>\n",
              "      <td>NaN</td>\n",
              "      <td>NaN</td>\n",
              "      <td>NaN</td>\n",
              "      <td>NaN</td>\n",
              "    </tr>\n",
              "    <tr>\n",
              "      <th>1</th>\n",
              "      <td>2000.0</td>\n",
              "      <td>NaN</td>\n",
              "      <td>NaN</td>\n",
              "      <td>NaN</td>\n",
              "      <td>NaN</td>\n",
              "      <td>NaN</td>\n",
              "      <td>NaN</td>\n",
              "      <td>NaN</td>\n",
              "    </tr>\n",
              "    <tr>\n",
              "      <th>2</th>\n",
              "      <td>2000.0</td>\n",
              "      <td>NaN</td>\n",
              "      <td>NaN</td>\n",
              "      <td>NaN</td>\n",
              "      <td>NaN</td>\n",
              "      <td>NaN</td>\n",
              "      <td>NaN</td>\n",
              "      <td>NaN</td>\n",
              "    </tr>\n",
              "    <tr>\n",
              "      <th>3</th>\n",
              "      <td>2000.0</td>\n",
              "      <td>NaN</td>\n",
              "      <td>NaN</td>\n",
              "      <td>NaN</td>\n",
              "      <td>NaN</td>\n",
              "      <td>NaN</td>\n",
              "      <td>NaN</td>\n",
              "      <td>NaN</td>\n",
              "    </tr>\n",
              "    <tr>\n",
              "      <th>4</th>\n",
              "      <td>2000.0</td>\n",
              "      <td>NaN</td>\n",
              "      <td>NaN</td>\n",
              "      <td>NaN</td>\n",
              "      <td>NaN</td>\n",
              "      <td>NaN</td>\n",
              "      <td>NaN</td>\n",
              "      <td>NaN</td>\n",
              "    </tr>\n",
              "    <tr>\n",
              "      <th>...</th>\n",
              "      <td>...</td>\n",
              "      <td>...</td>\n",
              "      <td>...</td>\n",
              "      <td>...</td>\n",
              "      <td>...</td>\n",
              "      <td>...</td>\n",
              "      <td>...</td>\n",
              "      <td>...</td>\n",
              "    </tr>\n",
              "    <tr>\n",
              "      <th>1525</th>\n",
              "      <td>2021.0</td>\n",
              "      <td>위험도 지표</td>\n",
              "      <td>노출변수</td>\n",
              "      <td>상관분석</td>\n",
              "      <td>인구자동차계수</td>\n",
              "      <td>자동차도로계수</td>\n",
              "      <td>NaN</td>\n",
              "      <td>NaN</td>\n",
              "    </tr>\n",
              "    <tr>\n",
              "      <th>1526</th>\n",
              "      <td>2021.0</td>\n",
              "      <td>수요분석</td>\n",
              "      <td>게임이론</td>\n",
              "      <td>지역간 철도</td>\n",
              "      <td>대중교통 만족도</td>\n",
              "      <td>대기시간</td>\n",
              "      <td>NaN</td>\n",
              "      <td>NaN</td>\n",
              "    </tr>\n",
              "    <tr>\n",
              "      <th>1527</th>\n",
              "      <td>2021.0</td>\n",
              "      <td>사업용 자동차</td>\n",
              "      <td>위계적 모형</td>\n",
              "      <td>내재적 사고요인</td>\n",
              "      <td>로지스틱 회귀분석</td>\n",
              "      <td>운수종사자</td>\n",
              "      <td>NaN</td>\n",
              "      <td>NaN</td>\n",
              "    </tr>\n",
              "    <tr>\n",
              "      <th>1528</th>\n",
              "      <td>2021.0</td>\n",
              "      <td>jerk</td>\n",
              "      <td>분류기</td>\n",
              "      <td>SDI</td>\n",
              "      <td>서포트벡터머신</td>\n",
              "      <td>교통안전대체지표</td>\n",
              "      <td>NaN</td>\n",
              "      <td>NaN</td>\n",
              "    </tr>\n",
              "    <tr>\n",
              "      <th>1529</th>\n",
              "      <td>2021.0</td>\n",
              "      <td>자율주행차</td>\n",
              "      <td>자율협력주행</td>\n",
              "      <td>자율주행 전용차로</td>\n",
              "      <td>혼합교통류</td>\n",
              "      <td>연속류</td>\n",
              "      <td>NaN</td>\n",
              "      <td>NaN</td>\n",
              "    </tr>\n",
              "  </tbody>\n",
              "</table>\n",
              "<p>1530 rows × 8 columns</p>\n",
              "</div>\n",
              "      <button class=\"colab-df-convert\" onclick=\"convertToInteractive('df-c0b995e2-d064-4f0f-8b57-c1212dfce78f')\"\n",
              "              title=\"Convert this dataframe to an interactive table.\"\n",
              "              style=\"display:none;\">\n",
              "        \n",
              "  <svg xmlns=\"http://www.w3.org/2000/svg\" height=\"24px\"viewBox=\"0 0 24 24\"\n",
              "       width=\"24px\">\n",
              "    <path d=\"M0 0h24v24H0V0z\" fill=\"none\"/>\n",
              "    <path d=\"M18.56 5.44l.94 2.06.94-2.06 2.06-.94-2.06-.94-.94-2.06-.94 2.06-2.06.94zm-11 1L8.5 8.5l.94-2.06 2.06-.94-2.06-.94L8.5 2.5l-.94 2.06-2.06.94zm10 10l.94 2.06.94-2.06 2.06-.94-2.06-.94-.94-2.06-.94 2.06-2.06.94z\"/><path d=\"M17.41 7.96l-1.37-1.37c-.4-.4-.92-.59-1.43-.59-.52 0-1.04.2-1.43.59L10.3 9.45l-7.72 7.72c-.78.78-.78 2.05 0 2.83L4 21.41c.39.39.9.59 1.41.59.51 0 1.02-.2 1.41-.59l7.78-7.78 2.81-2.81c.8-.78.8-2.07 0-2.86zM5.41 20L4 18.59l7.72-7.72 1.47 1.35L5.41 20z\"/>\n",
              "  </svg>\n",
              "      </button>\n",
              "      \n",
              "  <style>\n",
              "    .colab-df-container {\n",
              "      display:flex;\n",
              "      flex-wrap:wrap;\n",
              "      gap: 12px;\n",
              "    }\n",
              "\n",
              "    .colab-df-convert {\n",
              "      background-color: #E8F0FE;\n",
              "      border: none;\n",
              "      border-radius: 50%;\n",
              "      cursor: pointer;\n",
              "      display: none;\n",
              "      fill: #1967D2;\n",
              "      height: 32px;\n",
              "      padding: 0 0 0 0;\n",
              "      width: 32px;\n",
              "    }\n",
              "\n",
              "    .colab-df-convert:hover {\n",
              "      background-color: #E2EBFA;\n",
              "      box-shadow: 0px 1px 2px rgba(60, 64, 67, 0.3), 0px 1px 3px 1px rgba(60, 64, 67, 0.15);\n",
              "      fill: #174EA6;\n",
              "    }\n",
              "\n",
              "    [theme=dark] .colab-df-convert {\n",
              "      background-color: #3B4455;\n",
              "      fill: #D2E3FC;\n",
              "    }\n",
              "\n",
              "    [theme=dark] .colab-df-convert:hover {\n",
              "      background-color: #434B5C;\n",
              "      box-shadow: 0px 1px 3px 1px rgba(0, 0, 0, 0.15);\n",
              "      filter: drop-shadow(0px 1px 2px rgba(0, 0, 0, 0.3));\n",
              "      fill: #FFFFFF;\n",
              "    }\n",
              "  </style>\n",
              "\n",
              "      <script>\n",
              "        const buttonEl =\n",
              "          document.querySelector('#df-c0b995e2-d064-4f0f-8b57-c1212dfce78f button.colab-df-convert');\n",
              "        buttonEl.style.display =\n",
              "          google.colab.kernel.accessAllowed ? 'block' : 'none';\n",
              "\n",
              "        async function convertToInteractive(key) {\n",
              "          const element = document.querySelector('#df-c0b995e2-d064-4f0f-8b57-c1212dfce78f');\n",
              "          const dataTable =\n",
              "            await google.colab.kernel.invokeFunction('convertToInteractive',\n",
              "                                                     [key], {});\n",
              "          if (!dataTable) return;\n",
              "\n",
              "          const docLinkHtml = 'Like what you see? Visit the ' +\n",
              "            '<a target=\"_blank\" href=https://colab.research.google.com/notebooks/data_table.ipynb>data table notebook</a>'\n",
              "            + ' to learn more about interactive tables.';\n",
              "          element.innerHTML = '';\n",
              "          dataTable['output_type'] = 'display_data';\n",
              "          await google.colab.output.renderOutput(dataTable, element);\n",
              "          const docLink = document.createElement('div');\n",
              "          docLink.innerHTML = docLinkHtml;\n",
              "          element.appendChild(docLink);\n",
              "        }\n",
              "      </script>\n",
              "    </div>\n",
              "  </div>\n",
              "  "
            ]
          },
          "metadata": {},
          "execution_count": 2
        }
      ]
    },
    {
      "cell_type": "markdown",
      "source": [
        "# Task\n",
        "년도별 논문 키워드의 빈도와 비율을 추출한다.\n",
        "\n",
        "## Solution\n",
        "`pd.DataFrame`의 Split-Apply-Combine 방식을 따른다.\n",
        "* Step 1. 데이터프레임을 기준년도 2개를 조건으로하여 자료를 재분배\n",
        "* Step 2. `collections.Counter` 객체를 활용하여 년도별 키워드를 카운트 및 정렬\n",
        "* Step 3. 상위 20개 키워드만 추출 후 `pd.DataFrame`으로 저장"
      ],
      "metadata": {
        "id": "lOQ8LDgVFFRL"
      }
    },
    {
      "cell_type": "code",
      "source": [
        "ls = {}\n",
        "COUNT = {}\n",
        "\n",
        "for i in range(2000, 2022, 1):\n",
        "    ls[i] = df[df['연도'] == i].iloc[:, 1:].values.ravel()\n",
        "    COUNT[i] = df[df['연도'] == i].shape[0]"
      ],
      "metadata": {
        "id": "H1RBVtXCG01G"
      },
      "execution_count": 3,
      "outputs": []
    },
    {
      "cell_type": "code",
      "source": [
        "len(ls)"
      ],
      "metadata": {
        "colab": {
          "base_uri": "https://localhost:8080/"
        },
        "id": "_kfLm-DkHvDA",
        "outputId": "bb3d8c1c-7efc-4c51-c69b-e6f9f59b50cb"
      },
      "execution_count": 4,
      "outputs": [
        {
          "output_type": "execute_result",
          "data": {
            "text/plain": [
              "22"
            ]
          },
          "metadata": {},
          "execution_count": 4
        }
      ]
    },
    {
      "cell_type": "code",
      "source": [
        "COUNT"
      ],
      "metadata": {
        "colab": {
          "base_uri": "https://localhost:8080/"
        },
        "id": "uum30QGjOxdz",
        "outputId": "8b0f9a6f-761c-4b93-d48d-e663fc2df835"
      },
      "execution_count": 5,
      "outputs": [
        {
          "output_type": "execute_result",
          "data": {
            "text/plain": [
              "{2000: 52,\n",
              " 2001: 64,\n",
              " 2002: 96,\n",
              " 2003: 60,\n",
              " 2004: 96,\n",
              " 2005: 106,\n",
              " 2006: 90,\n",
              " 2007: 86,\n",
              " 2008: 116,\n",
              " 2009: 108,\n",
              " 2010: 90,\n",
              " 2011: 72,\n",
              " 2012: 60,\n",
              " 2013: 48,\n",
              " 2014: 65,\n",
              " 2015: 55,\n",
              " 2016: 44,\n",
              " 2017: 42,\n",
              " 2018: 40,\n",
              " 2019: 40,\n",
              " 2020: 39,\n",
              " 2021: 60}"
            ]
          },
          "metadata": {},
          "execution_count": 5
        }
      ]
    },
    {
      "cell_type": "markdown",
      "source": [
        "## Count keywords"
      ],
      "metadata": {
        "id": "Nug2h-z8EtG-"
      }
    },
    {
      "cell_type": "code",
      "source": [
        "counter_dc = {}\n",
        "\n",
        "for year, content in ls.items():\n",
        "    words = content[pd.notnull(content)]\n",
        "    words_counter = Counter(words)\n",
        "    counter_dc[year] = words_counter.most_common(20)"
      ],
      "metadata": {
        "id": "aQY7kFODH1M4"
      },
      "execution_count": 6,
      "outputs": []
    },
    {
      "cell_type": "code",
      "source": [
        "counter_dc.get(2021)"
      ],
      "metadata": {
        "id": "u40nxluxeMfq",
        "colab": {
          "base_uri": "https://localhost:8080/"
        },
        "outputId": "9f4dfe05-a3bb-4014-c9ca-1141a0fcd4be"
      },
      "execution_count": 7,
      "outputs": [
        {
          "output_type": "execute_result",
          "data": {
            "text/plain": [
              "[('주행 시뮬레이터', 3),\n",
              " ('자율주행차', 3),\n",
              " ('C-ITS', 2),\n",
              " ('교통안전', 2),\n",
              " ('VISSIM', 2),\n",
              " ('고속도로', 2),\n",
              " ('모빌리티 빅데이터', 2),\n",
              " ('수단선택모형', 2),\n",
              " ('긴급차량', 2),\n",
              " ('인공지능', 2),\n",
              " ('V2X 통신', 2),\n",
              " ('코로나19', 2),\n",
              " ('자율협력주행', 2),\n",
              " ('머신러닝', 2),\n",
              " ('대중교통', 2),\n",
              " ('통행시간', 2),\n",
              " ('순응률', 1),\n",
              " ('사고 발생 개연성', 1),\n",
              " ('주행행태', 1),\n",
              " ('차량 내 경고 정보 서비스', 1)]"
            ]
          },
          "metadata": {},
          "execution_count": 7
        }
      ]
    },
    {
      "cell_type": "code",
      "source": [
        "pd.DataFrame(counter_dc).to_csv(\"counter.csv\", encoding='euc-kr', index=False)"
      ],
      "metadata": {
        "id": "13CBhtSCeRkD"
      },
      "execution_count": 8,
      "outputs": []
    },
    {
      "cell_type": "markdown",
      "source": [
        "## Calculate proportion"
      ],
      "metadata": {
        "id": "FWUUzZXKEoEn"
      }
    },
    {
      "cell_type": "code",
      "source": [
        "prop_dc = counter_dc.copy()"
      ],
      "metadata": {
        "id": "Melpd3xYPOWz"
      },
      "execution_count": 9,
      "outputs": []
    },
    {
      "cell_type": "code",
      "source": [
        "prop_dc[2009][0][1] # 년도, idx, 개수"
      ],
      "metadata": {
        "colab": {
          "base_uri": "https://localhost:8080/"
        },
        "id": "vU-AxxKyPWfE",
        "outputId": "e33a30dc-eb0d-489d-a436-08d60df7bf60"
      },
      "execution_count": 10,
      "outputs": [
        {
          "output_type": "execute_result",
          "data": {
            "text/plain": [
              "6"
            ]
          },
          "metadata": {},
          "execution_count": 10
        }
      ]
    },
    {
      "cell_type": "code",
      "source": [
        "for i in range(2000, 2022, 1):\n",
        "    for j in range(len(prop_dc[i])):\n",
        "        prop_dc[i][j] = (prop_dc[i][j][0], prop_dc[i][j][1], COUNT[i], round(prop_dc[i][j][1]/COUNT[i], 3)) # tuple can't be assigned"
      ],
      "metadata": {
        "id": "Koi6JP_HPJPs"
      },
      "execution_count": 11,
      "outputs": []
    },
    {
      "cell_type": "code",
      "source": [
        "prop_dc.get(2021)"
      ],
      "metadata": {
        "colab": {
          "base_uri": "https://localhost:8080/"
        },
        "id": "1e7cLLSsQD4G",
        "outputId": "159464d8-ee0a-48bc-963a-3405c68e2ea2"
      },
      "execution_count": 12,
      "outputs": [
        {
          "output_type": "execute_result",
          "data": {
            "text/plain": [
              "[('주행 시뮬레이터', 3, 60, 0.05),\n",
              " ('자율주행차', 3, 60, 0.05),\n",
              " ('C-ITS', 2, 60, 0.033),\n",
              " ('교통안전', 2, 60, 0.033),\n",
              " ('VISSIM', 2, 60, 0.033),\n",
              " ('고속도로', 2, 60, 0.033),\n",
              " ('모빌리티 빅데이터', 2, 60, 0.033),\n",
              " ('수단선택모형', 2, 60, 0.033),\n",
              " ('긴급차량', 2, 60, 0.033),\n",
              " ('인공지능', 2, 60, 0.033),\n",
              " ('V2X 통신', 2, 60, 0.033),\n",
              " ('코로나19', 2, 60, 0.033),\n",
              " ('자율협력주행', 2, 60, 0.033),\n",
              " ('머신러닝', 2, 60, 0.033),\n",
              " ('대중교통', 2, 60, 0.033),\n",
              " ('통행시간', 2, 60, 0.033),\n",
              " ('순응률', 1, 60, 0.017),\n",
              " ('사고 발생 개연성', 1, 60, 0.017),\n",
              " ('주행행태', 1, 60, 0.017),\n",
              " ('차량 내 경고 정보 서비스', 1, 60, 0.017)]"
            ]
          },
          "metadata": {},
          "execution_count": 12
        }
      ]
    },
    {
      "cell_type": "code",
      "source": [
        "pd.DataFrame(prop_dc).to_csv(\"prop.csv\", encoding='euc-kr', index=False)"
      ],
      "metadata": {
        "id": "68Puz7OiQ3V5"
      },
      "execution_count": 13,
      "outputs": []
    },
    {
      "cell_type": "markdown",
      "source": [
        "## Minor tasks"
      ],
      "metadata": {
        "id": "5q-mZED1E0Yz"
      }
    },
    {
      "cell_type": "code",
      "source": [
        "# only keyword\n",
        "kw_dc = {}\n",
        "\n",
        "for year, content in ls.items():\n",
        "    words = content[pd.notnull(content)]\n",
        "    words_counter = Counter(words)\n",
        "    kw_dc[year] = np.array(words_counter.most_common(20))[:, 0]"
      ],
      "metadata": {
        "id": "edMQS2UERLTy"
      },
      "execution_count": 14,
      "outputs": []
    },
    {
      "cell_type": "code",
      "source": [
        "pd.DataFrame(kw_dc).to_csv(\"kw_only.csv\", encoding='euc-kr', index=False)"
      ],
      "metadata": {
        "id": "Ie0cQ6GtU4xn"
      },
      "execution_count": 15,
      "outputs": []
    },
    {
      "cell_type": "code",
      "source": [
        "# only prop\n",
        "prop_ls = counter_dc.copy()\n",
        "\n",
        "for i in range(2000, 2022, 1):\n",
        "    for j in range(len(prop_ls[i])):\n",
        "        prop_ls[i][j] = round(prop_ls[i][j][1]/COUNT[i], 3)"
      ],
      "metadata": {
        "id": "qEXKAY-8U6w5"
      },
      "execution_count": 16,
      "outputs": []
    },
    {
      "cell_type": "code",
      "source": [
        "pd.DataFrame(prop_ls).to_csv(\"prop_only.csv\", encoding='euc-kr', index=False)"
      ],
      "metadata": {
        "id": "OXtMRR4OVsnd"
      },
      "execution_count": 17,
      "outputs": []
    }
  ]
}