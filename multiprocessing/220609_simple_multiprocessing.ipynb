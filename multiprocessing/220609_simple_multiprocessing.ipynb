{
 "cells": [
  {
   "cell_type": "code",
   "execution_count": 1,
   "id": "c88be358",
   "metadata": {},
   "outputs": [
    {
     "name": "stdout",
     "output_type": "stream",
     "text": [
      "Overwriting test_function.py\n"
     ]
    }
   ],
   "source": [
    "%%writefile test_function.py\n",
    "\n",
    "class test():\n",
    "    def f(x): return x**2"
   ]
  },
  {
   "cell_type": "code",
   "execution_count": 2,
   "id": "b910234f",
   "metadata": {},
   "outputs": [],
   "source": [
    "from utils.test import f"
   ]
  },
  {
   "cell_type": "code",
   "execution_count": 3,
   "id": "0c466469",
   "metadata": {},
   "outputs": [],
   "source": [
    "from test_function import test"
   ]
  },
  {
   "cell_type": "code",
   "execution_count": 4,
   "id": "d5ad368b",
   "metadata": {},
   "outputs": [
    {
     "data": {
      "text/plain": [
       "4"
      ]
     },
     "execution_count": 4,
     "metadata": {},
     "output_type": "execute_result"
    }
   ],
   "source": [
    "f(2)"
   ]
  },
  {
   "cell_type": "code",
   "execution_count": 5,
   "id": "33e3543f",
   "metadata": {},
   "outputs": [],
   "source": [
    "import multiprocessing as mp\n",
    "from multiprocessing import Pool"
   ]
  },
  {
   "cell_type": "code",
   "execution_count": 6,
   "id": "ec4e0ce0",
   "metadata": {},
   "outputs": [],
   "source": [
    "from tqdm import tqdm"
   ]
  },
  {
   "cell_type": "code",
   "execution_count": 7,
   "id": "f1dcf64a",
   "metadata": {
    "scrolled": true
   },
   "outputs": [
    {
     "name": "stderr",
     "output_type": "stream",
     "text": [
      "processing: 100%|███████████████████████████████████████████████████████████| 100000/100000 [00:05<00:00, 18108.58it/s]\n"
     ]
    }
   ],
   "source": [
    "with Pool(24) as pool:\n",
    "    imap = pool.imap(f, list(range(100000)))\n",
    "    results = list(tqdm(imap, total=100000, desc='processing'))\n",
    "# print(results)"
   ]
  },
  {
   "cell_type": "code",
   "execution_count": 8,
   "id": "0514c442",
   "metadata": {},
   "outputs": [
    {
     "name": "stderr",
     "output_type": "stream",
     "text": [
      "processing: 100%|███████████████████████████████████████████████████████████| 100000/100000 [00:05<00:00, 17558.38it/s]\n"
     ]
    }
   ],
   "source": [
    "with Pool(24) as pool:\n",
    "    imap = pool.imap(test.f, list(range(100000)))\n",
    "    results = list(tqdm(imap, total=100000, desc='processing'))\n",
    "# print(results)"
   ]
  }
 ],
 "metadata": {
  "kernelspec": {
   "display_name": "Python 3 (ipykernel)",
   "language": "python",
   "name": "python3"
  },
  "language_info": {
   "codemirror_mode": {
    "name": "ipython",
    "version": 3
   },
   "file_extension": ".py",
   "mimetype": "text/x-python",
   "name": "python",
   "nbconvert_exporter": "python",
   "pygments_lexer": "ipython3",
   "version": "3.9.13"
  }
 },
 "nbformat": 4,
 "nbformat_minor": 5
}
